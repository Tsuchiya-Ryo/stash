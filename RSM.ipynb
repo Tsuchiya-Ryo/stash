{
 "cells": [
  {
   "cell_type": "code",
   "execution_count": 1,
   "id": "be74a6c0",
   "metadata": {},
   "outputs": [],
   "source": [
    "import numpy as np\n",
    "import matplotlib.pyplot as plt\n",
    "import pandas as pd\n",
    "import statsmodels.api as sm\n",
    "from sklearn.preprocessing import PolynomialFeatures\n",
    "import plotly.graph_objects as go"
   ]
  },
  {
   "cell_type": "code",
   "execution_count": 2,
   "id": "0fe3e8de",
   "metadata": {
    "scrolled": true
   },
   "outputs": [],
   "source": [
    "df = pd.read_csv(\"./OriginalData.csv\")"
   ]
  },
  {
   "cell_type": "code",
   "execution_count": 3,
   "id": "e8e45421",
   "metadata": {
    "scrolled": false
   },
   "outputs": [
    {
     "data": {
      "text/html": [
       "<div>\n",
       "<style scoped>\n",
       "    .dataframe tbody tr th:only-of-type {\n",
       "        vertical-align: middle;\n",
       "    }\n",
       "\n",
       "    .dataframe tbody tr th {\n",
       "        vertical-align: top;\n",
       "    }\n",
       "\n",
       "    .dataframe thead th {\n",
       "        text-align: right;\n",
       "    }\n",
       "</style>\n",
       "<table border=\"1\" class=\"dataframe\">\n",
       "  <thead>\n",
       "    <tr style=\"text-align: right;\">\n",
       "      <th></th>\n",
       "      <th>Entry</th>\n",
       "      <th>Temperature(℃)</th>\n",
       "      <th>Agitation(rpm)</th>\n",
       "      <th>Stress(MPa)</th>\n",
       "      <th>Transmittance(%)</th>\n",
       "    </tr>\n",
       "  </thead>\n",
       "  <tbody>\n",
       "    <tr>\n",
       "      <th>0</th>\n",
       "      <td>1</td>\n",
       "      <td>40.0</td>\n",
       "      <td>35.0</td>\n",
       "      <td>2.99</td>\n",
       "      <td>75.58</td>\n",
       "    </tr>\n",
       "    <tr>\n",
       "      <th>1</th>\n",
       "      <td>2</td>\n",
       "      <td>45.9</td>\n",
       "      <td>24.4</td>\n",
       "      <td>3.48</td>\n",
       "      <td>80.40</td>\n",
       "    </tr>\n",
       "    <tr>\n",
       "      <th>2</th>\n",
       "      <td>3</td>\n",
       "      <td>45.9</td>\n",
       "      <td>45.6</td>\n",
       "      <td>5.24</td>\n",
       "      <td>74.09</td>\n",
       "    </tr>\n",
       "    <tr>\n",
       "      <th>3</th>\n",
       "      <td>4</td>\n",
       "      <td>60.0</td>\n",
       "      <td>20.0</td>\n",
       "      <td>4.92</td>\n",
       "      <td>71.86</td>\n",
       "    </tr>\n",
       "    <tr>\n",
       "      <th>4</th>\n",
       "      <td>5</td>\n",
       "      <td>60.0</td>\n",
       "      <td>35.0</td>\n",
       "      <td>6.71</td>\n",
       "      <td>71.49</td>\n",
       "    </tr>\n",
       "    <tr>\n",
       "      <th>5</th>\n",
       "      <td>6</td>\n",
       "      <td>60.0</td>\n",
       "      <td>35.0</td>\n",
       "      <td>6.45</td>\n",
       "      <td>72.23</td>\n",
       "    </tr>\n",
       "    <tr>\n",
       "      <th>6</th>\n",
       "      <td>7</td>\n",
       "      <td>60.0</td>\n",
       "      <td>35.0</td>\n",
       "      <td>7.05</td>\n",
       "      <td>67.04</td>\n",
       "    </tr>\n",
       "    <tr>\n",
       "      <th>7</th>\n",
       "      <td>8</td>\n",
       "      <td>60.0</td>\n",
       "      <td>35.0</td>\n",
       "      <td>6.53</td>\n",
       "      <td>70.38</td>\n",
       "    </tr>\n",
       "    <tr>\n",
       "      <th>8</th>\n",
       "      <td>9</td>\n",
       "      <td>60.0</td>\n",
       "      <td>35.0</td>\n",
       "      <td>7.12</td>\n",
       "      <td>71.22</td>\n",
       "    </tr>\n",
       "    <tr>\n",
       "      <th>9</th>\n",
       "      <td>10</td>\n",
       "      <td>60.0</td>\n",
       "      <td>50.0</td>\n",
       "      <td>7.89</td>\n",
       "      <td>68.52</td>\n",
       "    </tr>\n",
       "    <tr>\n",
       "      <th>10</th>\n",
       "      <td>11</td>\n",
       "      <td>74.1</td>\n",
       "      <td>24.4</td>\n",
       "      <td>6.13</td>\n",
       "      <td>61.10</td>\n",
       "    </tr>\n",
       "    <tr>\n",
       "      <th>11</th>\n",
       "      <td>12</td>\n",
       "      <td>74.1</td>\n",
       "      <td>45.6</td>\n",
       "      <td>8.29</td>\n",
       "      <td>67.41</td>\n",
       "    </tr>\n",
       "    <tr>\n",
       "      <th>12</th>\n",
       "      <td>13</td>\n",
       "      <td>80.0</td>\n",
       "      <td>35.0</td>\n",
       "      <td>7.45</td>\n",
       "      <td>65.55</td>\n",
       "    </tr>\n",
       "  </tbody>\n",
       "</table>\n",
       "</div>"
      ],
      "text/plain": [
       "    Entry  Temperature(℃)  Agitation(rpm)  Stress(MPa)  Transmittance(%)\n",
       "0       1            40.0            35.0         2.99             75.58\n",
       "1       2            45.9            24.4         3.48             80.40\n",
       "2       3            45.9            45.6         5.24             74.09\n",
       "3       4            60.0            20.0         4.92             71.86\n",
       "4       5            60.0            35.0         6.71             71.49\n",
       "5       6            60.0            35.0         6.45             72.23\n",
       "6       7            60.0            35.0         7.05             67.04\n",
       "7       8            60.0            35.0         6.53             70.38\n",
       "8       9            60.0            35.0         7.12             71.22\n",
       "9      10            60.0            50.0         7.89             68.52\n",
       "10     11            74.1            24.4         6.13             61.10\n",
       "11     12            74.1            45.6         8.29             67.41\n",
       "12     13            80.0            35.0         7.45             65.55"
      ]
     },
     "execution_count": 3,
     "metadata": {},
     "output_type": "execute_result"
    }
   ],
   "source": [
    "df"
   ]
  },
  {
   "cell_type": "code",
   "execution_count": 4,
   "id": "de343e81",
   "metadata": {},
   "outputs": [],
   "source": [
    "def cciScaling(arr):\n",
    "    params = {\"mean\":np.mean(arr), \"max\":arr.max(), \"min\":arr.min()}\n",
    "    return 2*(arr - arr.min())/(arr.max()-arr.min())-1, params"
   ]
  },
  {
   "cell_type": "code",
   "execution_count": 5,
   "id": "90c0ad9d",
   "metadata": {},
   "outputs": [],
   "source": [
    "dfScaled = df[[\"Stress(MPa)\",\"Transmittance(%)\"]].copy()\n",
    "dfScaled[\"TemperatureScaled\"], tempParams = cciScaling(df[\"Temperature(℃)\"])\n",
    "dfScaled[\"AgitationScaled\"], agitParams = cciScaling(df[\"Agitation(rpm)\"])\n",
    "dfScaled = dfScaled[[\"TemperatureScaled\",\"AgitationScaled\",\"Stress(MPa)\",\"Transmittance(%)\"]]"
   ]
  },
  {
   "cell_type": "code",
   "execution_count": 6,
   "id": "d0dc8799",
   "metadata": {},
   "outputs": [
    {
     "data": {
      "text/html": [
       "<div>\n",
       "<style scoped>\n",
       "    .dataframe tbody tr th:only-of-type {\n",
       "        vertical-align: middle;\n",
       "    }\n",
       "\n",
       "    .dataframe tbody tr th {\n",
       "        vertical-align: top;\n",
       "    }\n",
       "\n",
       "    .dataframe thead th {\n",
       "        text-align: right;\n",
       "    }\n",
       "</style>\n",
       "<table border=\"1\" class=\"dataframe\">\n",
       "  <thead>\n",
       "    <tr style=\"text-align: right;\">\n",
       "      <th></th>\n",
       "      <th>TemperatureScaled</th>\n",
       "      <th>AgitationScaled</th>\n",
       "      <th>Stress(MPa)</th>\n",
       "      <th>Transmittance(%)</th>\n",
       "    </tr>\n",
       "  </thead>\n",
       "  <tbody>\n",
       "    <tr>\n",
       "      <th>0</th>\n",
       "      <td>-1.000</td>\n",
       "      <td>0.000000</td>\n",
       "      <td>2.99</td>\n",
       "      <td>75.58</td>\n",
       "    </tr>\n",
       "    <tr>\n",
       "      <th>1</th>\n",
       "      <td>-0.705</td>\n",
       "      <td>-0.706667</td>\n",
       "      <td>3.48</td>\n",
       "      <td>80.40</td>\n",
       "    </tr>\n",
       "    <tr>\n",
       "      <th>2</th>\n",
       "      <td>-0.705</td>\n",
       "      <td>0.706667</td>\n",
       "      <td>5.24</td>\n",
       "      <td>74.09</td>\n",
       "    </tr>\n",
       "    <tr>\n",
       "      <th>3</th>\n",
       "      <td>0.000</td>\n",
       "      <td>-1.000000</td>\n",
       "      <td>4.92</td>\n",
       "      <td>71.86</td>\n",
       "    </tr>\n",
       "    <tr>\n",
       "      <th>4</th>\n",
       "      <td>0.000</td>\n",
       "      <td>0.000000</td>\n",
       "      <td>6.71</td>\n",
       "      <td>71.49</td>\n",
       "    </tr>\n",
       "    <tr>\n",
       "      <th>5</th>\n",
       "      <td>0.000</td>\n",
       "      <td>0.000000</td>\n",
       "      <td>6.45</td>\n",
       "      <td>72.23</td>\n",
       "    </tr>\n",
       "    <tr>\n",
       "      <th>6</th>\n",
       "      <td>0.000</td>\n",
       "      <td>0.000000</td>\n",
       "      <td>7.05</td>\n",
       "      <td>67.04</td>\n",
       "    </tr>\n",
       "    <tr>\n",
       "      <th>7</th>\n",
       "      <td>0.000</td>\n",
       "      <td>0.000000</td>\n",
       "      <td>6.53</td>\n",
       "      <td>70.38</td>\n",
       "    </tr>\n",
       "    <tr>\n",
       "      <th>8</th>\n",
       "      <td>0.000</td>\n",
       "      <td>0.000000</td>\n",
       "      <td>7.12</td>\n",
       "      <td>71.22</td>\n",
       "    </tr>\n",
       "    <tr>\n",
       "      <th>9</th>\n",
       "      <td>0.000</td>\n",
       "      <td>1.000000</td>\n",
       "      <td>7.89</td>\n",
       "      <td>68.52</td>\n",
       "    </tr>\n",
       "    <tr>\n",
       "      <th>10</th>\n",
       "      <td>0.705</td>\n",
       "      <td>-0.706667</td>\n",
       "      <td>6.13</td>\n",
       "      <td>61.10</td>\n",
       "    </tr>\n",
       "    <tr>\n",
       "      <th>11</th>\n",
       "      <td>0.705</td>\n",
       "      <td>0.706667</td>\n",
       "      <td>8.29</td>\n",
       "      <td>67.41</td>\n",
       "    </tr>\n",
       "    <tr>\n",
       "      <th>12</th>\n",
       "      <td>1.000</td>\n",
       "      <td>0.000000</td>\n",
       "      <td>7.45</td>\n",
       "      <td>65.55</td>\n",
       "    </tr>\n",
       "  </tbody>\n",
       "</table>\n",
       "</div>"
      ],
      "text/plain": [
       "    TemperatureScaled  AgitationScaled  Stress(MPa)  Transmittance(%)\n",
       "0              -1.000         0.000000         2.99             75.58\n",
       "1              -0.705        -0.706667         3.48             80.40\n",
       "2              -0.705         0.706667         5.24             74.09\n",
       "3               0.000        -1.000000         4.92             71.86\n",
       "4               0.000         0.000000         6.71             71.49\n",
       "5               0.000         0.000000         6.45             72.23\n",
       "6               0.000         0.000000         7.05             67.04\n",
       "7               0.000         0.000000         6.53             70.38\n",
       "8               0.000         0.000000         7.12             71.22\n",
       "9               0.000         1.000000         7.89             68.52\n",
       "10              0.705        -0.706667         6.13             61.10\n",
       "11              0.705         0.706667         8.29             67.41\n",
       "12              1.000         0.000000         7.45             65.55"
      ]
     },
     "execution_count": 6,
     "metadata": {},
     "output_type": "execute_result"
    }
   ],
   "source": [
    "dfScaled"
   ]
  },
  {
   "cell_type": "code",
   "execution_count": 7,
   "id": "b6aa451f",
   "metadata": {},
   "outputs": [
    {
     "data": {
      "image/png": "[encoded data removed]",
      "text/plain": [
       "<Figure size 432x432 with 1 Axes>"
      ]
     },
     "metadata": {
      "needs_background": "light"
     },
     "output_type": "display_data"
    }
   ],
   "source": [
    "# CCI-Designed DataPoints\n",
    "plt.figure(figsize=(6,6))\n",
    "plt.scatter(dfScaled[\"TemperatureScaled\"], dfScaled[\"AgitationScaled\"])\n",
    "plt.xlabel(\"Temperature Scaled\")\n",
    "plt.ylabel(\"Agitation Scaled\")\n",
    "plt.title(\"CII-designed inputs\")\n",
    "plt.grid()\n",
    "plt.show()\n",
    "# plt.savefig(\"cci.png\")"
   ]
  },
  {
   "cell_type": "code",
   "execution_count": 8,
   "id": "0a75d304",
   "metadata": {},
   "outputs": [],
   "source": [
    "# make quadratic features\n",
    "\n",
    "poly = PolynomialFeatures(2, include_bias=False)\n",
    "X = dfScaled[[\"TemperatureScaled\",\"AgitationScaled\"]]\n",
    "X = pd.DataFrame(poly.fit_transform(X), columns=[\"T\",\"A\",\"TT\",\"TA\",\"AA\"])\n",
    "Y = dfScaled[[\"Stress(MPa)\",\"Transmittance(%)\"]]"
   ]
  },
  {
   "cell_type": "code",
   "execution_count": 9,
   "id": "bca4510c",
   "metadata": {},
   "outputs": [
    {
     "data": {
      "text/html": [
       "<div>\n",
       "<style scoped>\n",
       "    .dataframe tbody tr th:only-of-type {\n",
       "        vertical-align: middle;\n",
       "    }\n",
       "\n",
       "    .dataframe tbody tr th {\n",
       "        vertical-align: top;\n",
       "    }\n",
       "\n",
       "    .dataframe thead th {\n",
       "        text-align: right;\n",
       "    }\n",
       "</style>\n",
       "<table border=\"1\" class=\"dataframe\">\n",
       "  <thead>\n",
       "    <tr style=\"text-align: right;\">\n",
       "      <th></th>\n",
       "      <th>T</th>\n",
       "      <th>A</th>\n",
       "      <th>TT</th>\n",
       "      <th>TA</th>\n",
       "      <th>AA</th>\n",
       "    </tr>\n",
       "  </thead>\n",
       "  <tbody>\n",
       "    <tr>\n",
       "      <th>0</th>\n",
       "      <td>-1.000</td>\n",
       "      <td>0.000000</td>\n",
       "      <td>1.000000</td>\n",
       "      <td>-0.0000</td>\n",
       "      <td>0.000000</td>\n",
       "    </tr>\n",
       "    <tr>\n",
       "      <th>1</th>\n",
       "      <td>-0.705</td>\n",
       "      <td>-0.706667</td>\n",
       "      <td>0.497025</td>\n",
       "      <td>0.4982</td>\n",
       "      <td>0.499378</td>\n",
       "    </tr>\n",
       "    <tr>\n",
       "      <th>2</th>\n",
       "      <td>-0.705</td>\n",
       "      <td>0.706667</td>\n",
       "      <td>0.497025</td>\n",
       "      <td>-0.4982</td>\n",
       "      <td>0.499378</td>\n",
       "    </tr>\n",
       "    <tr>\n",
       "      <th>3</th>\n",
       "      <td>0.000</td>\n",
       "      <td>-1.000000</td>\n",
       "      <td>0.000000</td>\n",
       "      <td>-0.0000</td>\n",
       "      <td>1.000000</td>\n",
       "    </tr>\n",
       "    <tr>\n",
       "      <th>4</th>\n",
       "      <td>0.000</td>\n",
       "      <td>0.000000</td>\n",
       "      <td>0.000000</td>\n",
       "      <td>0.0000</td>\n",
       "      <td>0.000000</td>\n",
       "    </tr>\n",
       "    <tr>\n",
       "      <th>5</th>\n",
       "      <td>0.000</td>\n",
       "      <td>0.000000</td>\n",
       "      <td>0.000000</td>\n",
       "      <td>0.0000</td>\n",
       "      <td>0.000000</td>\n",
       "    </tr>\n",
       "    <tr>\n",
       "      <th>6</th>\n",
       "      <td>0.000</td>\n",
       "      <td>0.000000</td>\n",
       "      <td>0.000000</td>\n",
       "      <td>0.0000</td>\n",
       "      <td>0.000000</td>\n",
       "    </tr>\n",
       "    <tr>\n",
       "      <th>7</th>\n",
       "      <td>0.000</td>\n",
       "      <td>0.000000</td>\n",
       "      <td>0.000000</td>\n",
       "      <td>0.0000</td>\n",
       "      <td>0.000000</td>\n",
       "    </tr>\n",
       "    <tr>\n",
       "      <th>8</th>\n",
       "      <td>0.000</td>\n",
       "      <td>0.000000</td>\n",
       "      <td>0.000000</td>\n",
       "      <td>0.0000</td>\n",
       "      <td>0.000000</td>\n",
       "    </tr>\n",
       "    <tr>\n",
       "      <th>9</th>\n",
       "      <td>0.000</td>\n",
       "      <td>1.000000</td>\n",
       "      <td>0.000000</td>\n",
       "      <td>0.0000</td>\n",
       "      <td>1.000000</td>\n",
       "    </tr>\n",
       "    <tr>\n",
       "      <th>10</th>\n",
       "      <td>0.705</td>\n",
       "      <td>-0.706667</td>\n",
       "      <td>0.497025</td>\n",
       "      <td>-0.4982</td>\n",
       "      <td>0.499378</td>\n",
       "    </tr>\n",
       "    <tr>\n",
       "      <th>11</th>\n",
       "      <td>0.705</td>\n",
       "      <td>0.706667</td>\n",
       "      <td>0.497025</td>\n",
       "      <td>0.4982</td>\n",
       "      <td>0.499378</td>\n",
       "    </tr>\n",
       "    <tr>\n",
       "      <th>12</th>\n",
       "      <td>1.000</td>\n",
       "      <td>0.000000</td>\n",
       "      <td>1.000000</td>\n",
       "      <td>0.0000</td>\n",
       "      <td>0.000000</td>\n",
       "    </tr>\n",
       "  </tbody>\n",
       "</table>\n",
       "</div>"
      ],
      "text/plain": [
       "        T         A        TT      TA        AA\n",
       "0  -1.000  0.000000  1.000000 -0.0000  0.000000\n",
       "1  -0.705 -0.706667  0.497025  0.4982  0.499378\n",
       "2  -0.705  0.706667  0.497025 -0.4982  0.499378\n",
       "3   0.000 -1.000000  0.000000 -0.0000  1.000000\n",
       "4   0.000  0.000000  0.000000  0.0000  0.000000\n",
       "5   0.000  0.000000  0.000000  0.0000  0.000000\n",
       "6   0.000  0.000000  0.000000  0.0000  0.000000\n",
       "7   0.000  0.000000  0.000000  0.0000  0.000000\n",
       "8   0.000  0.000000  0.000000  0.0000  0.000000\n",
       "9   0.000  1.000000  0.000000  0.0000  1.000000\n",
       "10  0.705 -0.706667  0.497025 -0.4982  0.499378\n",
       "11  0.705  0.706667  0.497025  0.4982  0.499378\n",
       "12  1.000  0.000000  1.000000  0.0000  0.000000"
      ]
     },
     "execution_count": 9,
     "metadata": {},
     "output_type": "execute_result"
    }
   ],
   "source": [
    "X"
   ]
  },
  {
   "cell_type": "code",
   "execution_count": 10,
   "id": "0540adf0",
   "metadata": {},
   "outputs": [
    {
     "data": {
      "text/html": [
       "<div>\n",
       "<style scoped>\n",
       "    .dataframe tbody tr th:only-of-type {\n",
       "        vertical-align: middle;\n",
       "    }\n",
       "\n",
       "    .dataframe tbody tr th {\n",
       "        vertical-align: top;\n",
       "    }\n",
       "\n",
       "    .dataframe thead th {\n",
       "        text-align: right;\n",
       "    }\n",
       "</style>\n",
       "<table border=\"1\" class=\"dataframe\">\n",
       "  <thead>\n",
       "    <tr style=\"text-align: right;\">\n",
       "      <th></th>\n",
       "      <th>Stress(MPa)</th>\n",
       "      <th>Transmittance(%)</th>\n",
       "    </tr>\n",
       "  </thead>\n",
       "  <tbody>\n",
       "    <tr>\n",
       "      <th>0</th>\n",
       "      <td>2.99</td>\n",
       "      <td>75.58</td>\n",
       "    </tr>\n",
       "    <tr>\n",
       "      <th>1</th>\n",
       "      <td>3.48</td>\n",
       "      <td>80.40</td>\n",
       "    </tr>\n",
       "    <tr>\n",
       "      <th>2</th>\n",
       "      <td>5.24</td>\n",
       "      <td>74.09</td>\n",
       "    </tr>\n",
       "    <tr>\n",
       "      <th>3</th>\n",
       "      <td>4.92</td>\n",
       "      <td>71.86</td>\n",
       "    </tr>\n",
       "    <tr>\n",
       "      <th>4</th>\n",
       "      <td>6.71</td>\n",
       "      <td>71.49</td>\n",
       "    </tr>\n",
       "    <tr>\n",
       "      <th>5</th>\n",
       "      <td>6.45</td>\n",
       "      <td>72.23</td>\n",
       "    </tr>\n",
       "    <tr>\n",
       "      <th>6</th>\n",
       "      <td>7.05</td>\n",
       "      <td>67.04</td>\n",
       "    </tr>\n",
       "    <tr>\n",
       "      <th>7</th>\n",
       "      <td>6.53</td>\n",
       "      <td>70.38</td>\n",
       "    </tr>\n",
       "    <tr>\n",
       "      <th>8</th>\n",
       "      <td>7.12</td>\n",
       "      <td>71.22</td>\n",
       "    </tr>\n",
       "    <tr>\n",
       "      <th>9</th>\n",
       "      <td>7.89</td>\n",
       "      <td>68.52</td>\n",
       "    </tr>\n",
       "    <tr>\n",
       "      <th>10</th>\n",
       "      <td>6.13</td>\n",
       "      <td>61.10</td>\n",
       "    </tr>\n",
       "    <tr>\n",
       "      <th>11</th>\n",
       "      <td>8.29</td>\n",
       "      <td>67.41</td>\n",
       "    </tr>\n",
       "    <tr>\n",
       "      <th>12</th>\n",
       "      <td>7.45</td>\n",
       "      <td>65.55</td>\n",
       "    </tr>\n",
       "  </tbody>\n",
       "</table>\n",
       "</div>"
      ],
      "text/plain": [
       "    Stress(MPa)  Transmittance(%)\n",
       "0          2.99             75.58\n",
       "1          3.48             80.40\n",
       "2          5.24             74.09\n",
       "3          4.92             71.86\n",
       "4          6.71             71.49\n",
       "5          6.45             72.23\n",
       "6          7.05             67.04\n",
       "7          6.53             70.38\n",
       "8          7.12             71.22\n",
       "9          7.89             68.52\n",
       "10         6.13             61.10\n",
       "11         8.29             67.41\n",
       "12         7.45             65.55"
      ]
     },
     "execution_count": 10,
     "metadata": {},
     "output_type": "execute_result"
    }
   ],
   "source": [
    "Y"
   ]
  },
  {
   "cell_type": "markdown",
   "id": "5363c04b",
   "metadata": {},
   "source": [
    "## Regression of Stress"
   ]
  },
  {
   "cell_type": "code",
   "execution_count": 11,
   "id": "c6f19e3a",
   "metadata": {},
   "outputs": [],
   "source": [
    "ols = sm.OLS(Y[\"Stress(MPa)\"].values, sm.add_constant(X.values))\n",
    "resStress = ols.fit()"
   ]
  },
  {
   "cell_type": "code",
   "execution_count": 12,
   "id": "1084bd24",
   "metadata": {
    "scrolled": false
   },
   "outputs": [
    {
     "name": "stdout",
     "output_type": "stream",
     "text": [
      "                            OLS Regression Results                            \n",
      "==============================================================================\n",
      "Dep. Variable:                      y   R-squared:                       0.986\n",
      "Model:                            OLS   Adj. R-squared:                  0.977\n",
      "Method:                 Least Squares   F-statistic:                     102.2\n",
      "Date:                Fri, 05 Nov 2021   Prob (F-statistic):           2.19e-06\n",
      "Time:                        10:03:19   Log-Likelihood:                 3.8701\n",
      "No. Observations:                  13   AIC:                             4.260\n",
      "Df Residuals:                       7   BIC:                             7.650\n",
      "Df Model:                           5                                         \n",
      "Covariance Type:            nonrobust                                         \n",
      "==============================================================================\n",
      "                 coef    std err          t      P>|t|      [0.025      0.975]\n",
      "------------------------------------------------------------------------------\n",
      "const          6.7720      0.109     61.845      0.000       6.513       7.031\n",
      "x1             2.1259      0.123     17.340      0.000       1.836       2.416\n",
      "x2             1.4359      0.122     11.725      0.000       1.146       1.726\n",
      "x3            -1.5681      0.186     -8.433      0.000      -2.008      -1.128\n",
      "x4             0.2007      0.246      0.817      0.441      -0.380       0.782\n",
      "x5            -0.3832      0.186     -2.063      0.078      -0.822       0.056\n",
      "==============================================================================\n",
      "Omnibus:                        0.245   Durbin-Watson:                   2.971\n",
      "Prob(Omnibus):                  0.885   Jarque-Bera (JB):                0.176\n",
      "Skew:                           0.210   Prob(JB):                        0.916\n",
      "Kurtosis:                       2.617   Cond. No.                         3.98\n",
      "==============================================================================\n",
      "\n",
      "Notes:\n",
      "[1] Standard Errors assume that the covariance matrix of the errors is correctly specified.\n"
     ]
    },
    {
     "name": "stderr",
     "output_type": "stream",
     "text": [
      "C:\\Users\\lusty\\miniconda3\\envs\\py39\\lib\\site-packages\\scipy\\stats\\stats.py:1541: UserWarning: kurtosistest only valid for n>=20 ... continuing anyway, n=13\n",
      "  warnings.warn(\"kurtosistest only valid for n>=20 ... continuing \"\n"
     ]
    }
   ],
   "source": [
    "print(resStress.summary())"
   ]
  },
  {
   "cell_type": "code",
   "execution_count": 13,
   "id": "b9d7605f",
   "metadata": {},
   "outputs": [],
   "source": [
    "# AIC based backward elimination\n",
    "def backwardElimAIC(resFull, features, response):\n",
    "    \"\"\"\n",
    "    resFull: statsmodels' full model result\n",
    "    features: features X (dataframe), no constant column\n",
    "    response: response Y (df.series)\n",
    "    \n",
    "    \"\"\"\n",
    "    full_aic = resFull.aic\n",
    "    X_full = features\n",
    "    lowest_aic = [full_aic]\n",
    "    del_idx = [X_full.columns]\n",
    "    \n",
    "    while True:\n",
    "        aics = []\n",
    "        for i in range(X_full.shape[1]):\n",
    "            usecols = list(range(X_full.shape[1]))\n",
    "            usecols.pop(i)\n",
    "            X_temp = X_full.iloc[:,usecols]\n",
    "            ols = sm.OLS(response.values, sm.add_constant(X_temp.values))\n",
    "            res = ols.fit()\n",
    "            aics.append(res.aic)\n",
    "        candidate_aic, candidate_idx = min(aics), np.argmin(aics)\n",
    "        \n",
    "        if candidate_aic < lowest_aic[-1]:\n",
    "            lowest_aic.append(candidate_aic)\n",
    "            usecols = list(range(X_full.shape[1]))\n",
    "            usecols.pop(candidate_idx)\n",
    "            X_full = X_full.iloc[:,usecols]\n",
    "            del_idx.append(X_full.columns)\n",
    "        else:\n",
    "            break\n",
    "    \n",
    "    return del_idx, lowest_aic"
   ]
  },
  {
   "cell_type": "code",
   "execution_count": 14,
   "id": "8c5b54c1",
   "metadata": {},
   "outputs": [],
   "source": [
    "del_idx, lowest_aic = backwardElimAIC(resStress, X, Y[\"Stress(MPa)\"])"
   ]
  },
  {
   "cell_type": "code",
   "execution_count": 15,
   "id": "9ca3fa91",
   "metadata": {},
   "outputs": [
    {
     "name": "stdout",
     "output_type": "stream",
     "text": [
      "modelformula\tAIC\n",
      "T + A + TT + TA + AA\t4.260\n",
      "T + A + TT + AA\t3.443\n"
     ]
    }
   ],
   "source": [
    "print(\"modelformula\\tAIC\")\n",
    "for i in range(len(lowest_aic)):\n",
    "    print(*del_idx[i], sep=\" + \", end=\"\\t\")\n",
    "    print(\"{:.3f}\".format(lowest_aic[i]))"
   ]
  },
  {
   "cell_type": "code",
   "execution_count": 16,
   "id": "6afbe8b2",
   "metadata": {},
   "outputs": [
    {
     "data": {
      "text/plain": [
       "Index(['T', 'A', 'TT', 'TA', 'AA'], dtype='object')"
      ]
     },
     "execution_count": 16,
     "metadata": {},
     "output_type": "execute_result"
    }
   ],
   "source": [
    "X.columns"
   ]
  },
  {
   "cell_type": "code",
   "execution_count": 17,
   "id": "d22f3c98",
   "metadata": {
    "scrolled": false
   },
   "outputs": [
    {
     "name": "stdout",
     "output_type": "stream",
     "text": [
      "                            OLS Regression Results                            \n",
      "==============================================================================\n",
      "Dep. Variable:                      y   R-squared:                       0.985\n",
      "Model:                            OLS   Adj. R-squared:                  0.978\n",
      "Method:                 Least Squares   F-statistic:                     133.1\n",
      "Date:                Fri, 05 Nov 2021   Prob (F-statistic):           2.37e-07\n",
      "Time:                        10:03:24   Log-Likelihood:                 3.2783\n",
      "No. Observations:                  13   AIC:                             3.443\n",
      "Df Residuals:                       8   BIC:                             6.268\n",
      "Df Model:                           4                                         \n",
      "Covariance Type:            nonrobust                                         \n",
      "==============================================================================\n",
      "                 coef    std err          t      P>|t|      [0.025      0.975]\n",
      "------------------------------------------------------------------------------\n",
      "const          6.7720      0.107     63.173      0.000       6.525       7.019\n",
      "x1             2.1259      0.120     17.712      0.000       1.849       2.403\n",
      "x2             1.4359      0.120     11.977      0.000       1.159       1.712\n",
      "x3            -1.5681      0.182     -8.614      0.000      -1.988      -1.148\n",
      "x4            -0.3832      0.182     -2.107      0.068      -0.803       0.036\n",
      "==============================================================================\n",
      "Omnibus:                        0.248   Durbin-Watson:                   2.973\n",
      "Prob(Omnibus):                  0.883   Jarque-Bera (JB):                0.395\n",
      "Skew:                           0.232   Prob(JB):                        0.821\n",
      "Kurtosis:                       2.283   Cond. No.                         3.52\n",
      "==============================================================================\n",
      "\n",
      "Notes:\n",
      "[1] Standard Errors assume that the covariance matrix of the errors is correctly specified.\n"
     ]
    },
    {
     "name": "stderr",
     "output_type": "stream",
     "text": [
      "C:\\Users\\lusty\\miniconda3\\envs\\py39\\lib\\site-packages\\scipy\\stats\\stats.py:1541: UserWarning: kurtosistest only valid for n>=20 ... continuing anyway, n=13\n",
      "  warnings.warn(\"kurtosistest only valid for n>=20 ... continuing \"\n"
     ]
    }
   ],
   "source": [
    "# removal of interaction term \"TA\"\n",
    "ols = sm.OLS(Y[\"Stress(MPa)\"].values, sm.add_constant(X.iloc[:,[0,1,2,4]].values))\n",
    "res = ols.fit()\n",
    "print(res.summary())"
   ]
  },
  {
   "cell_type": "code",
   "execution_count": 18,
   "id": "60ca098d",
   "metadata": {},
   "outputs": [
    {
     "data": {
      "text/html": [
       "<div>\n",
       "<style scoped>\n",
       "    .dataframe tbody tr th:only-of-type {\n",
       "        vertical-align: middle;\n",
       "    }\n",
       "\n",
       "    .dataframe tbody tr th {\n",
       "        vertical-align: top;\n",
       "    }\n",
       "\n",
       "    .dataframe thead th {\n",
       "        text-align: right;\n",
       "    }\n",
       "</style>\n",
       "<table border=\"1\" class=\"dataframe\">\n",
       "  <thead>\n",
       "    <tr style=\"text-align: right;\">\n",
       "      <th></th>\n",
       "      <th>Entry</th>\n",
       "      <th>Temperature(℃)</th>\n",
       "      <th>Agitation(rpm)</th>\n",
       "      <th>Stress(MPa)</th>\n",
       "      <th>Transmittance(%)</th>\n",
       "    </tr>\n",
       "  </thead>\n",
       "  <tbody>\n",
       "    <tr>\n",
       "      <th>0</th>\n",
       "      <td>1</td>\n",
       "      <td>40.0</td>\n",
       "      <td>35.0</td>\n",
       "      <td>2.99</td>\n",
       "      <td>75.58</td>\n",
       "    </tr>\n",
       "    <tr>\n",
       "      <th>1</th>\n",
       "      <td>2</td>\n",
       "      <td>45.9</td>\n",
       "      <td>24.4</td>\n",
       "      <td>3.48</td>\n",
       "      <td>80.40</td>\n",
       "    </tr>\n",
       "    <tr>\n",
       "      <th>2</th>\n",
       "      <td>3</td>\n",
       "      <td>45.9</td>\n",
       "      <td>45.6</td>\n",
       "      <td>5.24</td>\n",
       "      <td>74.09</td>\n",
       "    </tr>\n",
       "    <tr>\n",
       "      <th>3</th>\n",
       "      <td>4</td>\n",
       "      <td>60.0</td>\n",
       "      <td>20.0</td>\n",
       "      <td>4.92</td>\n",
       "      <td>71.86</td>\n",
       "    </tr>\n",
       "    <tr>\n",
       "      <th>4</th>\n",
       "      <td>5</td>\n",
       "      <td>60.0</td>\n",
       "      <td>35.0</td>\n",
       "      <td>6.71</td>\n",
       "      <td>71.49</td>\n",
       "    </tr>\n",
       "    <tr>\n",
       "      <th>5</th>\n",
       "      <td>6</td>\n",
       "      <td>60.0</td>\n",
       "      <td>35.0</td>\n",
       "      <td>6.45</td>\n",
       "      <td>72.23</td>\n",
       "    </tr>\n",
       "    <tr>\n",
       "      <th>6</th>\n",
       "      <td>7</td>\n",
       "      <td>60.0</td>\n",
       "      <td>35.0</td>\n",
       "      <td>7.05</td>\n",
       "      <td>67.04</td>\n",
       "    </tr>\n",
       "    <tr>\n",
       "      <th>7</th>\n",
       "      <td>8</td>\n",
       "      <td>60.0</td>\n",
       "      <td>35.0</td>\n",
       "      <td>6.53</td>\n",
       "      <td>70.38</td>\n",
       "    </tr>\n",
       "    <tr>\n",
       "      <th>8</th>\n",
       "      <td>9</td>\n",
       "      <td>60.0</td>\n",
       "      <td>35.0</td>\n",
       "      <td>7.12</td>\n",
       "      <td>71.22</td>\n",
       "    </tr>\n",
       "    <tr>\n",
       "      <th>9</th>\n",
       "      <td>10</td>\n",
       "      <td>60.0</td>\n",
       "      <td>50.0</td>\n",
       "      <td>7.89</td>\n",
       "      <td>68.52</td>\n",
       "    </tr>\n",
       "    <tr>\n",
       "      <th>10</th>\n",
       "      <td>11</td>\n",
       "      <td>74.1</td>\n",
       "      <td>24.4</td>\n",
       "      <td>6.13</td>\n",
       "      <td>61.10</td>\n",
       "    </tr>\n",
       "    <tr>\n",
       "      <th>11</th>\n",
       "      <td>12</td>\n",
       "      <td>74.1</td>\n",
       "      <td>45.6</td>\n",
       "      <td>8.29</td>\n",
       "      <td>67.41</td>\n",
       "    </tr>\n",
       "    <tr>\n",
       "      <th>12</th>\n",
       "      <td>13</td>\n",
       "      <td>80.0</td>\n",
       "      <td>35.0</td>\n",
       "      <td>7.45</td>\n",
       "      <td>65.55</td>\n",
       "    </tr>\n",
       "  </tbody>\n",
       "</table>\n",
       "</div>"
      ],
      "text/plain": [
       "    Entry  Temperature(℃)  Agitation(rpm)  Stress(MPa)  Transmittance(%)\n",
       "0       1            40.0            35.0         2.99             75.58\n",
       "1       2            45.9            24.4         3.48             80.40\n",
       "2       3            45.9            45.6         5.24             74.09\n",
       "3       4            60.0            20.0         4.92             71.86\n",
       "4       5            60.0            35.0         6.71             71.49\n",
       "5       6            60.0            35.0         6.45             72.23\n",
       "6       7            60.0            35.0         7.05             67.04\n",
       "7       8            60.0            35.0         6.53             70.38\n",
       "8       9            60.0            35.0         7.12             71.22\n",
       "9      10            60.0            50.0         7.89             68.52\n",
       "10     11            74.1            24.4         6.13             61.10\n",
       "11     12            74.1            45.6         8.29             67.41\n",
       "12     13            80.0            35.0         7.45             65.55"
      ]
     },
     "execution_count": 18,
     "metadata": {},
     "output_type": "execute_result"
    }
   ],
   "source": [
    "df"
   ]
  },
  {
   "cell_type": "code",
   "execution_count": 19,
   "id": "02fb6a0d",
   "metadata": {},
   "outputs": [
    {
     "data": {
      "image/png": "[encoded data removed]",
      "text/plain": [
       "<Figure size 576x432 with 1 Axes>"
      ]
     },
     "metadata": {
      "needs_background": "light"
     },
     "output_type": "display_data"
    }
   ],
   "source": [
    "plt.figure(figsize=(8,6))\n",
    "for val in np.unique(df[\"Agitation(rpm)\"]):\n",
    "    plt.scatter(df[df[\"Agitation(rpm)\"]==val][\"Temperature(℃)\"],\n",
    "             df[df[\"Agitation(rpm)\"]==val][\"Stress(MPa)\"],\n",
    "             label=f\"Agitation={val}rpm\")\n",
    "plt.legend()\n",
    "plt.show()"
   ]
  },
  {
   "cell_type": "code",
   "execution_count": 20,
   "id": "ad4c7775",
   "metadata": {},
   "outputs": [
    {
     "data": {
      "image/png": "[encoded data removed]",
      "text/plain": [
       "<Figure size 432x288 with 1 Axes>"
      ]
     },
     "metadata": {
      "needs_background": "light"
     },
     "output_type": "display_data"
    }
   ],
   "source": [
    "plt.plot(df[df[\"Agitation(rpm)\"]==24.4][\"Temperature(℃)\"],\\\n",
    "        df[df[\"Agitation(rpm)\"]==24.4][\"Stress(MPa)\"],\\\n",
    "        label=\"Agitation=24.4rpm\")\n",
    "plt.plot(df[df[\"Agitation(rpm)\"]==45.6][\"Temperature(℃)\"],\\\n",
    "        df[df[\"Agitation(rpm)\"]==45.6][\"Stress(MPa)\"],\\\n",
    "        label=\"Agitation=45.6rpm\")\n",
    "plt.xlabel(\"Temperature(℃)\")\n",
    "plt.ylabel(\"Stress(MPa)\")\n",
    "plt.legend()\n",
    "plt.show()\n",
    "# plt.savefig(\"Temperature-Stress.png\")"
   ]
  },
  {
   "cell_type": "code",
   "execution_count": 21,
   "id": "43d8fbf3",
   "metadata": {},
   "outputs": [
    {
     "data": {
      "image/png": "[encoded data removed]",
      "text/plain": [
       "<Figure size 432x288 with 1 Axes>"
      ]
     },
     "metadata": {
      "needs_background": "light"
     },
     "output_type": "display_data"
    }
   ],
   "source": [
    "plt.plot(df[df[\"Temperature(℃)\"]==45.9][\"Agitation(rpm)\"],\\\n",
    "        df[df[\"Temperature(℃)\"]==45.9][\"Stress(MPa)\"],\\\n",
    "        label=\"Temperature=45.9℃\")\n",
    "plt.plot(df[df[\"Temperature(℃)\"]==74.1][\"Agitation(rpm)\"],\\\n",
    "        df[df[\"Temperature(℃)\"]==74.1][\"Stress(MPa)\"],\\\n",
    "        label=\"Temperature=74.1℃\")\n",
    "plt.xlabel(\"Agitation(rpm)\")\n",
    "plt.ylabel(\"Stress(MPa)\")\n",
    "plt.legend()\n",
    "plt.show()\n",
    "# plt.savefig(\"Agitation-Stress.png\")"
   ]
  },
  {
   "cell_type": "code",
   "execution_count": 22,
   "id": "055c0868",
   "metadata": {},
   "outputs": [],
   "source": [
    "# surface plot"
   ]
  },
  {
   "cell_type": "code",
   "execution_count": 23,
   "id": "bf45dff7",
   "metadata": {},
   "outputs": [],
   "source": [
    "XX, YY = np.meshgrid(np.linspace(-1,1,30), np.linspace(-1,1,30))\n",
    "pred_X = pd.DataFrame({\"T\":XX.ravel(),\"A\":YY.ravel()})\n",
    "pred_X[\"TT\"] = pred_X[\"T\"]*pred_X[\"T\"]\n",
    "pred_X[\"AA\"] = pred_X[\"A\"]*pred_X[\"A\"]\n",
    "\n",
    "pred_Y_Stress = res.predict(sm.add_constant(pred_X.values))\n",
    "\n",
    "# back to original scale\n",
    "XX = ((XX.ravel()+1)/2)*(tempParams[\"max\"]-tempParams[\"min\"])+tempParams[\"min\"]\n",
    "YY = ((YY.ravel()+1)/2)*(agitParams[\"max\"]-agitParams[\"min\"])+agitParams[\"min\"]"
   ]
  },
  {
   "cell_type": "code",
   "execution_count": null,
   "id": "a8791309",
   "metadata": {
    "scrolled": true
   },
   "outputs": [],
   "source": [
    "fig = go.Figure()\n",
    "fig.add_trace(go.Mesh3d(x=XX,\n",
    "                        y=YY,\n",
    "                        z=pred_Y_Stress,\n",
    "                        opacity=0.5))\n",
    "\n",
    "fig.add_trace(go.Scatter3d(x=df[\"Temperature(℃)\"].values,\n",
    "                           y=df[\"Agitation(rpm)\"].values,\n",
    "                           z=df[\"Stress(MPa)\"].values,\n",
    "                           mode=\"markers\",\n",
    "                           marker=dict(size=4, color=\"blue\")))\n",
    "                            \n",
    "fig.update_layout(scene = dict(\n",
    "                    xaxis_title='Temperature',\n",
    "                    yaxis_title='Agitation',\n",
    "                    zaxis_title='Stress'),\n",
    "                    width=700,\n",
    "                    margin=dict(r=20, b=10, l=10, t=10))\n",
    "fig.show()"
   ]
  },
  {
   "cell_type": "code",
   "execution_count": 25,
   "id": "c4250ab6",
   "metadata": {},
   "outputs": [],
   "source": [
    "# save surface plot\n",
    "surface = pd.DataFrame({\"0\":XX.astype(np.float32),\n",
    "                        \"1\":YY.astype(np.float32),\n",
    "                        \"2\":pred_Y_Stress.astype(np.float32)})\n",
    "# surface.to_csv(\"StressSurface.csv\", index=True)"
   ]
  },
  {
   "cell_type": "code",
   "execution_count": null,
   "id": "d39d3dad",
   "metadata": {},
   "outputs": [],
   "source": []
  },
  {
   "cell_type": "markdown",
   "id": "cfcc6c3c",
   "metadata": {},
   "source": [
    "## Regression of Transmittance"
   ]
  },
  {
   "cell_type": "code",
   "execution_count": 26,
   "id": "349a8615",
   "metadata": {},
   "outputs": [],
   "source": [
    "# full model reg\n",
    "ols = sm.OLS(Y[\"Transmittance(%)\"].values, sm.add_constant(X.values))\n",
    "resTransmittance = ols.fit()"
   ]
  },
  {
   "cell_type": "code",
   "execution_count": 27,
   "id": "efd1faa7",
   "metadata": {},
   "outputs": [
    {
     "name": "stdout",
     "output_type": "stream",
     "text": [
      "                            OLS Regression Results                            \n",
      "==============================================================================\n",
      "Dep. Variable:                      y   R-squared:                       0.868\n",
      "Model:                            OLS   Adj. R-squared:                  0.774\n",
      "Method:                 Least Squares   F-statistic:                     9.215\n",
      "Date:                Fri, 05 Nov 2021   Prob (F-statistic):            0.00550\n",
      "Time:                        10:03:53   Log-Likelihood:                -25.264\n",
      "No. Observations:                  13   AIC:                             62.53\n",
      "Df Residuals:                       7   BIC:                             65.92\n",
      "Df Model:                           5                                         \n",
      "Covariance Type:            nonrobust                                         \n",
      "==============================================================================\n",
      "                 coef    std err          t      P>|t|      [0.025      0.975]\n",
      "------------------------------------------------------------------------------\n",
      "const         70.4725      1.030     68.442      0.000      68.038      72.907\n",
      "x1            -7.1076      1.153     -6.165      0.000      -9.834      -4.381\n",
      "x2            -0.8355      1.152     -0.726      0.492      -3.559       1.888\n",
      "x3             0.2783      1.749      0.159      0.878      -3.856       4.413\n",
      "x4             6.3328      2.311      2.741      0.029       0.869      11.797\n",
      "x5            -0.0958      1.747     -0.055      0.958      -4.226       4.035\n",
      "==============================================================================\n",
      "Omnibus:                        1.182   Durbin-Watson:                   1.802\n",
      "Prob(Omnibus):                  0.554   Jarque-Bera (JB):                0.976\n",
      "Skew:                          -0.534   Prob(JB):                        0.614\n",
      "Kurtosis:                       2.187   Cond. No.                         3.98\n",
      "==============================================================================\n",
      "\n",
      "Notes:\n",
      "[1] Standard Errors assume that the covariance matrix of the errors is correctly specified.\n"
     ]
    },
    {
     "name": "stderr",
     "output_type": "stream",
     "text": [
      "C:\\Users\\lusty\\miniconda3\\envs\\py39\\lib\\site-packages\\scipy\\stats\\stats.py:1541: UserWarning:\n",
      "\n",
      "kurtosistest only valid for n>=20 ... continuing anyway, n=13\n",
      "\n"
     ]
    }
   ],
   "source": [
    "print(resTransmittance.summary())"
   ]
  },
  {
   "cell_type": "code",
   "execution_count": 28,
   "id": "196c73b0",
   "metadata": {},
   "outputs": [],
   "source": [
    "# AIC based backward elimination\n",
    "del_idx, lowest_aic = backwardElimAIC(resTransmittance, X, Y[\"Transmittance(%)\"])"
   ]
  },
  {
   "cell_type": "code",
   "execution_count": 29,
   "id": "bf88d6e1",
   "metadata": {},
   "outputs": [
    {
     "name": "stdout",
     "output_type": "stream",
     "text": [
      "T + A + TT + TA + AA\t62.528\n",
      "T + A + TT + TA\t60.533\n",
      "T + A + TA\t58.586\n",
      "T + TA\t57.524\n"
     ]
    }
   ],
   "source": [
    "for i in range(len(lowest_aic)):\n",
    "    print(*del_idx[i], sep=\" + \", end=\"\\t\")\n",
    "    print(\"{:.3f}\".format(lowest_aic[i]))"
   ]
  },
  {
   "cell_type": "code",
   "execution_count": 30,
   "id": "eba713bd",
   "metadata": {},
   "outputs": [
    {
     "data": {
      "text/plain": [
       "Index(['T', 'A', 'TT', 'TA', 'AA'], dtype='object')"
      ]
     },
     "execution_count": 30,
     "metadata": {},
     "output_type": "execute_result"
    }
   ],
   "source": [
    "X.columns"
   ]
  },
  {
   "cell_type": "code",
   "execution_count": 31,
   "id": "98cb6cb4",
   "metadata": {},
   "outputs": [
    {
     "name": "stdout",
     "output_type": "stream",
     "text": [
      "                            OLS Regression Results                            \n",
      "==============================================================================\n",
      "Dep. Variable:                      y   R-squared:                       0.868\n",
      "Model:                            OLS   Adj. R-squared:                  0.823\n",
      "Method:                 Least Squares   F-statistic:                     19.65\n",
      "Date:                Fri, 05 Nov 2021   Prob (F-statistic):           0.000274\n",
      "Time:                        10:03:56   Log-Likelihood:                -25.293\n",
      "No. Observations:                  13   AIC:                             58.59\n",
      "Df Residuals:                       9   BIC:                             60.85\n",
      "Df Model:                           3                                         \n",
      "Covariance Type:            nonrobust                                         \n",
      "==============================================================================\n",
      "                 coef    std err          t      P>|t|      [0.025      0.975]\n",
      "------------------------------------------------------------------------------\n",
      "const         70.5285      0.564    124.956      0.000      69.252      71.805\n",
      "x1            -7.1076      1.019     -6.975      0.000      -9.413      -4.802\n",
      "x2            -0.8355      1.018     -0.821      0.433      -3.138       1.467\n",
      "x3             6.3328      2.042      3.101      0.013       1.713      10.953\n",
      "==============================================================================\n",
      "Omnibus:                        0.912   Durbin-Watson:                   1.809\n",
      "Prob(Omnibus):                  0.634   Jarque-Bera (JB):                0.804\n",
      "Skew:                          -0.476   Prob(JB):                        0.669\n",
      "Kurtosis:                       2.239   Cond. No.                         3.62\n",
      "==============================================================================\n",
      "\n",
      "Notes:\n",
      "[1] Standard Errors assume that the covariance matrix of the errors is correctly specified.\n"
     ]
    },
    {
     "name": "stderr",
     "output_type": "stream",
     "text": [
      "C:\\Users\\lusty\\miniconda3\\envs\\py39\\lib\\site-packages\\scipy\\stats\\stats.py:1541: UserWarning:\n",
      "\n",
      "kurtosistest only valid for n>=20 ... continuing anyway, n=13\n",
      "\n"
     ]
    }
   ],
   "source": [
    "# T + TA is the best\n",
    "# but including iteraction term w/o its main effect is not coommon\n",
    "# thus we use T + A + TA\n",
    "\n",
    "ols = sm.OLS(Y[\"Transmittance(%)\"].values, sm.add_constant(X.iloc[:,[0,1,3]].values))\n",
    "res = ols.fit()\n",
    "print(res.summary())"
   ]
  },
  {
   "cell_type": "code",
   "execution_count": 32,
   "id": "337988a3",
   "metadata": {},
   "outputs": [
    {
     "data": {
      "image/png": "[encoded data removed]",
      "text/plain": [
       "<Figure size 432x288 with 1 Axes>"
      ]
     },
     "metadata": {
      "needs_background": "light"
     },
     "output_type": "display_data"
    }
   ],
   "source": [
    "# intersection in two lines -> interaction term\n",
    "\n",
    "plt.plot(df[df[\"Agitation(rpm)\"]==24.4][\"Temperature(℃)\"],\\\n",
    "        df[df[\"Agitation(rpm)\"]==24.4][\"Transmittance(%)\"],\\\n",
    "        label=\"Agitation=24.4rpm\")\n",
    "plt.plot(df[df[\"Agitation(rpm)\"]==45.6][\"Temperature(℃)\"],\\\n",
    "        df[df[\"Agitation(rpm)\"]==45.6][\"Transmittance(%)\"],\\\n",
    "        label=\"Agitation=45.6rpm\")\n",
    "plt.xlabel(\"Temperature(℃)\")\n",
    "plt.ylabel(\"Transmittance(%)\")\n",
    "plt.legend()\n",
    "# plt.show()\n",
    "plt.savefig(\"Temperature-Transmittance.png\")"
   ]
  },
  {
   "cell_type": "code",
   "execution_count": 33,
   "id": "40b8976d",
   "metadata": {},
   "outputs": [
    {
     "data": {
      "image/png": "[encoded data removed]",
      "text/plain": [
       "<Figure size 432x288 with 1 Axes>"
      ]
     },
     "metadata": {
      "needs_background": "light"
     },
     "output_type": "display_data"
    }
   ],
   "source": [
    "plt.plot(df[df[\"Temperature(℃)\"]==45.9][\"Agitation(rpm)\"],\\\n",
    "        df[df[\"Temperature(℃)\"]==45.9][\"Transmittance(%)\"],\\\n",
    "        label=\"Temperature=45.9℃\")\n",
    "plt.plot(df[df[\"Temperature(℃)\"]==74.1][\"Agitation(rpm)\"],\\\n",
    "        df[df[\"Temperature(℃)\"]==74.1][\"Transmittance(%)\"],\\\n",
    "        label=\"Temperature=74.1℃\")\n",
    "plt.xlabel(\"Agitation(rpm)\")\n",
    "plt.ylabel(\"Transmittance(%)\")\n",
    "plt.legend()\n",
    "# plt.show()\n",
    "plt.savefig(\"Agitation-Transmittance.png\")"
   ]
  },
  {
   "cell_type": "code",
   "execution_count": 34,
   "id": "e8fdb226",
   "metadata": {},
   "outputs": [],
   "source": [
    "XX, YY = np.meshgrid(np.linspace(-1,1,30), np.linspace(-1,1,30))\n",
    "pred_X = pd.DataFrame({\"T\":XX.ravel(),\"A\":YY.ravel()})\n",
    "pred_X[\"TA\"] = pred_X[\"T\"]*pred_X[\"A\"]\n",
    "\n",
    "pred_Y_Transmittance = res.predict(sm.add_constant(pred_X.values))\n",
    "\n",
    "# back to original scale\n",
    "XX = ((XX.ravel()+1)/2)*(tempParams[\"max\"]-tempParams[\"min\"])+tempParams[\"min\"]\n",
    "YY = ((YY.ravel()+1)/2)*(agitParams[\"max\"]-agitParams[\"min\"])+agitParams[\"min\"]"
   ]
  },
  {
   "cell_type": "code",
   "execution_count": null,
   "id": "10122da3",
   "metadata": {},
   "outputs": [],
   "source": [
    "fig = go.Figure()\n",
    "fig.add_trace(go.Mesh3d(x=XX,\n",
    "                        y=YY,\n",
    "                        z=pred_Y_Transmittance,\n",
    "                        opacity=0.5,\n",
    "                        color=\"red\"))\n",
    "\n",
    "fig.add_trace(go.Scatter3d(x=df[\"Temperature(℃)\"].values,\n",
    "                           y=df[\"Agitation(rpm)\"].values,\n",
    "                           z=df[\"Transmittance(%)\"].values,\n",
    "                           mode=\"markers\",\n",
    "                           marker=dict(size=4, color=\"red\")))\n",
    "                            \n",
    "fig.update_layout(scene = dict(\n",
    "                    xaxis_title='Temperature',\n",
    "                    yaxis_title='Agitation',\n",
    "                    zaxis_title='Transmittance'),\n",
    "                    width=700,\n",
    "                    margin=dict(r=20, b=10, l=10, t=10))\n",
    "fig.show()"
   ]
  },
  {
   "cell_type": "code",
   "execution_count": 36,
   "id": "05c758f3",
   "metadata": {},
   "outputs": [],
   "source": [
    "# save surface\n",
    "surfaceTransmittance = pd.DataFrame({\"0\":XX.astype(np.float32),\n",
    "                        \"1\":YY.astype(np.float32),\n",
    "                        \"2\":pred_Y_Transmittance.astype(np.float32)})\n",
    "# surfaceTransmittance.to_csv(\"TransmittanceSurface.csv\", index=True)"
   ]
  },
  {
   "cell_type": "code",
   "execution_count": 37,
   "id": "67627f5b",
   "metadata": {},
   "outputs": [],
   "source": [
    "surfaceTransmittance = pd.DataFrame({\"0\":XX.astype(np.float32),\n",
    "                        \"1\":YY.astype(np.float32),\n",
    "                        \"2\":(pred_Y_Transmittance/10).astype(np.float32)})\n",
    "# surfaceTransmittance.to_csv(\"TransmittanceSurfaceScaled.csv\", index=True)"
   ]
  },
  {
   "cell_type": "code",
   "execution_count": null,
   "id": "7e0d8791",
   "metadata": {
    "scrolled": true
   },
   "outputs": [],
   "source": [
    "fig = go.Figure()\n",
    "\n",
    "fig.add_trace(go.Mesh3d(x=XX,\n",
    "                        y=YY,\n",
    "                        z=pred_Y_Stress,\n",
    "                        opacity=0.5,\n",
    "                        name=\"Stress\"))\n",
    "\n",
    "fig.add_trace(go.Mesh3d(x=XX,\n",
    "                        y=YY,\n",
    "                        z=pred_Y_Transmittance/10,\n",
    "                        opacity=0.5,\n",
    "                        name=\"Transmittance\"))\n",
    "\n",
    "fig.add_trace(go.Scatter3d(x=df[\"Temperature(℃)\"].values,\n",
    "                           y=df[\"Agitation(rpm)\"].values,\n",
    "                           z=df[\"Stress(MPa)\"].values,\n",
    "                           mode=\"markers\",\n",
    "                           name=\"Stress_Surface\",\n",
    "                           marker=dict(size=4, color=\"blue\")))\n",
    "\n",
    "fig.add_trace(go.Scatter3d(x=df[\"Temperature(℃)\"].values,\n",
    "                           y=df[\"Agitation(rpm)\"].values,\n",
    "                           z=df[\"Transmittance(%)\"].values/10,\n",
    "                           mode=\"markers\",\n",
    "                           name=\"Transmittance_Surface\",\n",
    "                           marker=dict(size=4, color=\"red\")))\n",
    "                            \n",
    "fig.update_layout(scene = dict(\n",
    "                    xaxis_title='Temp',\n",
    "                    yaxis_title='Agitatio',\n",
    "                    zaxis_title='Responce'),\n",
    "                    width=700,\n",
    "                    margin=dict(r=20, b=10, l=10, t=10))\n",
    "fig.show()"
   ]
  },
  {
   "cell_type": "code",
   "execution_count": null,
   "id": "ed6c1c95",
   "metadata": {},
   "outputs": [],
   "source": []
  }
 ],
 "metadata": {
  "kernelspec": {
   "display_name": "Python 3 (ipykernel)",
   "language": "python",
   "name": "python3"
  },
  "language_info": {
   "codemirror_mode": {
    "name": "ipython",
    "version": 3
   },
   "file_extension": ".py",
   "mimetype": "text/x-python",
   "name": "python",
   "nbconvert_exporter": "python",
   "pygments_lexer": "ipython3",
   "version": "3.9.0"
  }
 },
 "nbformat": 4,
 "nbformat_minor": 5
}
